{
 "cells": [
  {
   "cell_type": "code",
   "execution_count": 59,
   "id": "13e8d965",
   "metadata": {},
   "outputs": [],
   "source": [
    "# cnn for the imdb problem\n",
    "import numpy \n",
    "from keras.datasets import imdb\n",
    "from keras.models import Sequential \n",
    "from keras.layers import Dense \n",
    "from keras.layers import Flatten\n",
    "from tensorflow.keras.layers import Conv1D\n",
    "from keras.layers import MaxPooling1D\n",
    "from keras.layers import Embedding\n",
    "from keras.preprocessing import sequence"
   ]
  },
  {
   "cell_type": "code",
   "execution_count": 60,
   "id": "d24ca19c",
   "metadata": {},
   "outputs": [],
   "source": [
    "seed = 7\n",
    "numpy.random.seed(seed)"
   ]
  },
  {
   "cell_type": "code",
   "execution_count": 61,
   "id": "f4d1ad76",
   "metadata": {},
   "outputs": [],
   "source": [
    "top_words=5000"
   ]
  },
  {
   "cell_type": "code",
   "execution_count": 62,
   "id": "33fc84fa",
   "metadata": {},
   "outputs": [],
   "source": [
    "(X_train,y_train),(X_test,y_test)=imdb.load_data(num_words=top_words)"
   ]
  },
  {
   "cell_type": "code",
   "execution_count": 63,
   "id": "d2a2b21a",
   "metadata": {},
   "outputs": [],
   "source": [
    "max_words=500"
   ]
  },
  {
   "cell_type": "code",
   "execution_count": 64,
   "id": "effca728",
   "metadata": {},
   "outputs": [],
   "source": [
    "X_train=sequence.pad_sequences(X_train,maxlen=max_words)\n",
    "X_test=sequence.pad_sequences(X_test,maxlen=max_words)"
   ]
  },
  {
   "cell_type": "code",
   "execution_count": 65,
   "id": "235883a6",
   "metadata": {},
   "outputs": [],
   "source": [
    "model=Sequential()"
   ]
  },
  {
   "cell_type": "code",
   "execution_count": 66,
   "id": "06abe053",
   "metadata": {},
   "outputs": [],
   "source": [
    "model.add(Embedding(top_words,32,input_length=max_words))\n",
    "model.add(Conv1D(filters=32,kernel_size=3,padding='same',activation='relu'))\n",
    "    "
   ]
  },
  {
   "cell_type": "code",
   "execution_count": 67,
   "id": "e7547858",
   "metadata": {},
   "outputs": [
    {
     "name": "stdout",
     "output_type": "stream",
     "text": [
      "Model: \"sequential_2\"\n",
      "_________________________________________________________________\n",
      " Layer (type)                Output Shape              Param #   \n",
      "=================================================================\n",
      " embedding_5 (Embedding)     (None, 500, 32)           160000    \n",
      "                                                                 \n",
      " conv1d_4 (Conv1D)           (None, 500, 32)           3104      \n",
      "                                                                 \n",
      " max_pooling1d_10 (MaxPooli  (None, 250, 32)           0         \n",
      " ng1D)                                                           \n",
      "                                                                 \n",
      " flatten_3 (Flatten)         (None, 8000)              0         \n",
      "                                                                 \n",
      " dense_3 (Dense)             (None, 250)               2000250   \n",
      "                                                                 \n",
      " dense_4 (Dense)             (None, 1)                 251       \n",
      "                                                                 \n",
      "=================================================================\n",
      "Total params: 2163605 (8.25 MB)\n",
      "Trainable params: 2163605 (8.25 MB)\n",
      "Non-trainable params: 0 (0.00 Byte)\n",
      "_________________________________________________________________\n"
     ]
    }
   ],
   "source": [
    "model.add(MaxPooling1D(pool_size=2))\n",
    "model.add(Flatten())\n",
    "model.add(Dense(250,activation='relu'))\n",
    "model.add(Dense(1,activation='sigmoid'))\n",
    "model.compile(loss='binary_crossentropy',optimizer='adam',metrics=['accuracy'])\n",
    "model.summary()"
   ]
  },
  {
   "cell_type": "code",
   "execution_count": 70,
   "id": "abffbefa",
   "metadata": {},
   "outputs": [
    {
     "name": "stdout",
     "output_type": "stream",
     "text": [
      "Epoch 1/2\n",
      "196/196 - 20s - loss: 0.4580 - accuracy: 0.7513 - val_loss: 0.2824 - val_accuracy: 0.8813 - 20s/epoch - 101ms/step\n",
      "Epoch 2/2\n",
      "196/196 - 18s - loss: 0.2151 - accuracy: 0.9151 - val_loss: 0.2750 - val_accuracy: 0.8848 - 18s/epoch - 89ms/step\n"
     ]
    },
    {
     "data": {
      "text/plain": [
       "<keras.src.callbacks.History at 0x1b4e362ff50>"
      ]
     },
     "execution_count": 70,
     "metadata": {},
     "output_type": "execute_result"
    }
   ],
   "source": [
    "model.fit(X_train,y_train,validation_data=(X_test,y_test),epochs=2,batch_size=128,verbose=2)"
   ]
  },
  {
   "cell_type": "code",
   "execution_count": 71,
   "id": "4a4ab689",
   "metadata": {},
   "outputs": [
    {
     "name": "stdout",
     "output_type": "stream",
     "text": [
      "Accuracy:88.48%\n"
     ]
    }
   ],
   "source": [
    "scores=model.evaluate(X_test,y_test,verbose=0)\n",
    "print(\"Accuracy:%.2f%%\"%(scores[1]*100))"
   ]
  },
  {
   "cell_type": "code",
   "execution_count": null,
   "id": "81738ff8",
   "metadata": {},
   "outputs": [],
   "source": []
  }
 ],
 "metadata": {
  "kernelspec": {
   "display_name": "Python 3 (ipykernel)",
   "language": "python",
   "name": "python3"
  },
  "language_info": {
   "codemirror_mode": {
    "name": "ipython",
    "version": 3
   },
   "file_extension": ".py",
   "mimetype": "text/x-python",
   "name": "python",
   "nbconvert_exporter": "python",
   "pygments_lexer": "ipython3",
   "version": "3.11.5"
  }
 },
 "nbformat": 4,
 "nbformat_minor": 5
}
